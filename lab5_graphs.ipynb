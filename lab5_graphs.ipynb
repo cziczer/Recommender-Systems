{
 "cells": [
  {
   "cell_type": "markdown",
   "metadata": {},
   "source": [
    "# Laboratorium 5 - rekomendacje grafowe\n",
    "\n",
    "## Przygotowanie\n",
    "\n",
    " * dataset i potrzebne biblioteki są dokładnie takie same jak na poprzednim laboratorium\n",
    " * pobierz i wypakuj dataset: https://files.grouplens.org/datasets/movielens/ml-latest-small.zip\n",
    "   * więcej możesz poczytać tutaj: https://grouplens.org/datasets/movielens/\n",
    " * [opcjonalnie] Utwórz wirtualne środowisko\n",
    " `python3 -m venv ./recsyslab5`\n",
    " * zainstaluj potrzebne biblioteki:\n",
    " `pip install numpy pandas sklearn gensim==3.8.3`"
   ]
  },
  {
   "cell_type": "markdown",
   "metadata": {},
   "source": [
    "## Część 1. - przygotowanie danych"
   ]
  },
  {
   "cell_type": "code",
   "execution_count": 1,
   "metadata": {},
   "outputs": [
    {
     "name": "stderr",
     "output_type": "stream",
     "text": [
      "C:\\Users\\Mateusz\\anaconda3\\lib\\site-packages\\requests\\__init__.py:89: RequestsDependencyWarning: urllib3 (1.26.7) or chardet (3.0.4) doesn't match a supported version!\n",
      "  warnings.warn(\"urllib3 ({}) or chardet ({}) doesn't match a supported \"\n"
     ]
    }
   ],
   "source": [
    "import math\n",
    "import random\n",
    "import numpy as np\n",
    "import pandas\n",
    "\n",
    "from gensim.models import Word2Vec\n",
    "\n",
    "from sklearn.model_selection import train_test_split, KFold"
   ]
  },
  {
   "cell_type": "code",
   "execution_count": 2,
   "metadata": {},
   "outputs": [],
   "source": [
    "SCORE_THRESHOLD = 4.0 # recenzje z co najmniej taka ocena wezmiemy pod uwage\n",
    "VECTOR_SIZE = 20 # jak dlugie powinny byc wektory osadzen wierzcholkow\n",
    "NEIGHBOURS_WINDOW = 11 # tylu sasiadow wezmiemy pod uwage w algorytmie Word2Vec (symetrycznie i wliczajac biezacy element)\n",
    "PATH_LENGTH = 30 # dlugosc pojedynczej losowej sciezki\n",
    "PATHS_COUNT_PER_NODE = 20 # liczba losowych sciezek zaczynajacych sie w kazdym z wierzcholkow"
   ]
  },
  {
   "cell_type": "code",
   "execution_count": 3,
   "metadata": {},
   "outputs": [
    {
     "data": {
      "text/html": [
       "<div>\n",
       "<style scoped>\n",
       "    .dataframe tbody tr th:only-of-type {\n",
       "        vertical-align: middle;\n",
       "    }\n",
       "\n",
       "    .dataframe tbody tr th {\n",
       "        vertical-align: top;\n",
       "    }\n",
       "\n",
       "    .dataframe thead th {\n",
       "        text-align: right;\n",
       "    }\n",
       "</style>\n",
       "<table border=\"1\" class=\"dataframe\">\n",
       "  <thead>\n",
       "    <tr style=\"text-align: right;\">\n",
       "      <th></th>\n",
       "      <th>userId</th>\n",
       "      <th>movieId</th>\n",
       "      <th>rating</th>\n",
       "    </tr>\n",
       "  </thead>\n",
       "  <tbody>\n",
       "    <tr>\n",
       "      <th>0</th>\n",
       "      <td>u_1</td>\n",
       "      <td>m_1</td>\n",
       "      <td>4.0</td>\n",
       "    </tr>\n",
       "    <tr>\n",
       "      <th>1</th>\n",
       "      <td>u_1</td>\n",
       "      <td>m_3</td>\n",
       "      <td>4.0</td>\n",
       "    </tr>\n",
       "    <tr>\n",
       "      <th>2</th>\n",
       "      <td>u_1</td>\n",
       "      <td>m_6</td>\n",
       "      <td>4.0</td>\n",
       "    </tr>\n",
       "    <tr>\n",
       "      <th>3</th>\n",
       "      <td>u_1</td>\n",
       "      <td>m_47</td>\n",
       "      <td>5.0</td>\n",
       "    </tr>\n",
       "    <tr>\n",
       "      <th>4</th>\n",
       "      <td>u_1</td>\n",
       "      <td>m_50</td>\n",
       "      <td>5.0</td>\n",
       "    </tr>\n",
       "    <tr>\n",
       "      <th>...</th>\n",
       "      <td>...</td>\n",
       "      <td>...</td>\n",
       "      <td>...</td>\n",
       "    </tr>\n",
       "    <tr>\n",
       "      <th>100830</th>\n",
       "      <td>u_610</td>\n",
       "      <td>m_166528</td>\n",
       "      <td>4.0</td>\n",
       "    </tr>\n",
       "    <tr>\n",
       "      <th>100831</th>\n",
       "      <td>u_610</td>\n",
       "      <td>m_166534</td>\n",
       "      <td>4.0</td>\n",
       "    </tr>\n",
       "    <tr>\n",
       "      <th>100832</th>\n",
       "      <td>u_610</td>\n",
       "      <td>m_168248</td>\n",
       "      <td>5.0</td>\n",
       "    </tr>\n",
       "    <tr>\n",
       "      <th>100833</th>\n",
       "      <td>u_610</td>\n",
       "      <td>m_168250</td>\n",
       "      <td>5.0</td>\n",
       "    </tr>\n",
       "    <tr>\n",
       "      <th>100834</th>\n",
       "      <td>u_610</td>\n",
       "      <td>m_168252</td>\n",
       "      <td>5.0</td>\n",
       "    </tr>\n",
       "  </tbody>\n",
       "</table>\n",
       "<p>48580 rows × 3 columns</p>\n",
       "</div>"
      ],
      "text/plain": [
       "       userId   movieId  rating\n",
       "0         u_1       m_1     4.0\n",
       "1         u_1       m_3     4.0\n",
       "2         u_1       m_6     4.0\n",
       "3         u_1      m_47     5.0\n",
       "4         u_1      m_50     5.0\n",
       "...       ...       ...     ...\n",
       "100830  u_610  m_166528     4.0\n",
       "100831  u_610  m_166534     4.0\n",
       "100832  u_610  m_168248     5.0\n",
       "100833  u_610  m_168250     5.0\n",
       "100834  u_610  m_168252     5.0\n",
       "\n",
       "[48580 rows x 3 columns]"
      ]
     },
     "execution_count": 3,
     "metadata": {},
     "output_type": "execute_result"
    }
   ],
   "source": [
    "# wczytujemy oceny uytkownikow\n",
    "\n",
    "ratings = pandas.read_csv('ml-latest-small/ratings.csv').drop(columns=['timestamp'])\n",
    "ratings = ratings.where(ratings['rating'] >= SCORE_THRESHOLD).dropna()\n",
    "# rozszerzamy ID tak, by sie nie powtarzaly\n",
    "ratings['userId'] = ratings['userId'].apply(lambda x: 'u_' + str(int(x)))\n",
    "ratings['movieId'] = ratings['movieId'].apply(lambda x: 'm_' + str(int(x)))\n",
    "ratings"
   ]
  },
  {
   "cell_type": "code",
   "execution_count": 4,
   "metadata": {},
   "outputs": [
    {
     "data": {
      "text/html": [
       "<div>\n",
       "<style scoped>\n",
       "    .dataframe tbody tr th:only-of-type {\n",
       "        vertical-align: middle;\n",
       "    }\n",
       "\n",
       "    .dataframe tbody tr th {\n",
       "        vertical-align: top;\n",
       "    }\n",
       "\n",
       "    .dataframe thead th {\n",
       "        text-align: right;\n",
       "    }\n",
       "</style>\n",
       "<table border=\"1\" class=\"dataframe\">\n",
       "  <thead>\n",
       "    <tr style=\"text-align: right;\">\n",
       "      <th></th>\n",
       "      <th>movieId</th>\n",
       "      <th>genre</th>\n",
       "    </tr>\n",
       "  </thead>\n",
       "  <tbody>\n",
       "    <tr>\n",
       "      <th>0</th>\n",
       "      <td>m_1</td>\n",
       "      <td>g_adventure</td>\n",
       "    </tr>\n",
       "    <tr>\n",
       "      <th>0</th>\n",
       "      <td>m_1</td>\n",
       "      <td>g_animation</td>\n",
       "    </tr>\n",
       "    <tr>\n",
       "      <th>0</th>\n",
       "      <td>m_1</td>\n",
       "      <td>g_children</td>\n",
       "    </tr>\n",
       "    <tr>\n",
       "      <th>0</th>\n",
       "      <td>m_1</td>\n",
       "      <td>g_comedy</td>\n",
       "    </tr>\n",
       "    <tr>\n",
       "      <th>0</th>\n",
       "      <td>m_1</td>\n",
       "      <td>g_fantasy</td>\n",
       "    </tr>\n",
       "    <tr>\n",
       "      <th>...</th>\n",
       "      <td>...</td>\n",
       "      <td>...</td>\n",
       "    </tr>\n",
       "    <tr>\n",
       "      <th>9738</th>\n",
       "      <td>m_193583</td>\n",
       "      <td>g_fantasy</td>\n",
       "    </tr>\n",
       "    <tr>\n",
       "      <th>9739</th>\n",
       "      <td>m_193585</td>\n",
       "      <td>g_drama</td>\n",
       "    </tr>\n",
       "    <tr>\n",
       "      <th>9740</th>\n",
       "      <td>m_193587</td>\n",
       "      <td>g_action</td>\n",
       "    </tr>\n",
       "    <tr>\n",
       "      <th>9740</th>\n",
       "      <td>m_193587</td>\n",
       "      <td>g_animation</td>\n",
       "    </tr>\n",
       "    <tr>\n",
       "      <th>9741</th>\n",
       "      <td>m_193609</td>\n",
       "      <td>g_comedy</td>\n",
       "    </tr>\n",
       "  </tbody>\n",
       "</table>\n",
       "<p>22084 rows × 2 columns</p>\n",
       "</div>"
      ],
      "text/plain": [
       "       movieId        genre\n",
       "0          m_1  g_adventure\n",
       "0          m_1  g_animation\n",
       "0          m_1   g_children\n",
       "0          m_1     g_comedy\n",
       "0          m_1    g_fantasy\n",
       "...        ...          ...\n",
       "9738  m_193583    g_fantasy\n",
       "9739  m_193585      g_drama\n",
       "9740  m_193587     g_action\n",
       "9740  m_193587  g_animation\n",
       "9741  m_193609     g_comedy\n",
       "\n",
       "[22084 rows x 2 columns]"
      ]
     },
     "execution_count": 4,
     "metadata": {},
     "output_type": "execute_result"
    }
   ],
   "source": [
    "# wczytujemy gatunki filmow\n",
    "\n",
    "movies = pandas.read_csv('ml-latest-small/movies.csv').drop(columns=['title'])\n",
    "movies['movieId'] = movies['movieId'].apply(lambda x: 'm_' + str(int(x)))\n",
    "movies['genres'] = movies['genres'].apply(lambda x: x.split('|'))\n",
    "movies_to_genres = movies.explode('genres')\n",
    "movies_to_genres['genres'] = movies_to_genres['genres'].apply(lambda x: 'g_' + x.lower())\n",
    "movies_to_genres = movies_to_genres.rename(columns = {'genres': 'genre'})\n",
    "movies_to_genres"
   ]
  },
  {
   "cell_type": "code",
   "execution_count": 5,
   "metadata": {},
   "outputs": [],
   "source": [
    "users = ratings['userId'].unique()\n",
    "movies = movies_to_genres['movieId'].unique()\n",
    "genres = movies_to_genres['genre'].unique()"
   ]
  },
  {
   "cell_type": "markdown",
   "metadata": {},
   "source": [
    "## Część 2. - spacer po grafie"
   ]
  },
  {
   "cell_type": "code",
   "execution_count": 6,
   "metadata": {},
   "outputs": [],
   "source": [
    "# generujemy losowe sciezki w grafie\n",
    "#   krawedzie reprezentowane sa w dwoch macierzach - ratings i movies\n",
    "#   w wersji podstawowej wszystkie krawedzie traktujemy jako niewazone i nieskierowane\n",
    "#   mozliwe ulepszenia:\n",
    "#    - rozwazenie krawedzi skierowanych\n",
    "#    - uwzglednienie wag krawedzi (ocen uzytkownikow)\n",
    "#    - jakas forma normalizacji - obnizenia wag wierzcholkow o wysokich stopniach\n",
    "#    - Node2Vec - parametry P i Q\n",
    "# wynikiem powinna byc lista list - kazda z tych list zawiera kolejne ID wierzcholkow na sciezce\n",
    "\n",
    "def generate_walks(ratings, movies_to_genres, paths_per_node, path_length):\n",
    "    paths = []\n",
    "    nodes = np.concatenate((users, movies, genres))\n",
    "    graph = {n : [] for n in nodes}\n",
    "    for rating in ratings.to_numpy():\n",
    "        graph[rating[0]].append(rating[1])\n",
    "        graph[rating[1]].append(rating[0])\n",
    "    for movie in movies_to_genres.to_numpy():\n",
    "        graph[movie[0]].append(movie[1])\n",
    "        graph[movie[1]].append(movie[0])\n",
    " \n",
    "    for node in nodes:\n",
    "        for _ in range(paths_per_node):\n",
    "            current_node = node\n",
    "            path = [current_node]\n",
    "            for _ in range(path_length-1):\n",
    "                idx = random.randrange(0, len(graph[current_node]))\n",
    "                next_node = graph[current_node][idx]\n",
    "                path.append(next_node)\n",
    "                current_node = next_node\n",
    "            paths.append(path)\n",
    "    return paths, graph\n",
    "    \n",
    "walks, graph = generate_walks(ratings, movies_to_genres, PATHS_COUNT_PER_NODE, PATH_LENGTH)"
   ]
  },
  {
   "cell_type": "markdown",
   "metadata": {},
   "source": [
    "## Część 3. - obliczenie osadzeń"
   ]
  },
  {
   "cell_type": "code",
   "execution_count": 7,
   "metadata": {},
   "outputs": [],
   "source": [
    "# trenujemy model\n",
    "#   zauwaz, ze wszystkie trzy rodzaje wierzcholkow beda reprezentowane tak samo, w tej samej przestrzeni\n",
    "\n",
    "model = Word2Vec(sentences=walks, vector_size=VECTOR_SIZE, window=5, min_count=1, workers=4)\n",
    "embeddings = model.wv"
   ]
  },
  {
   "cell_type": "markdown",
   "metadata": {},
   "source": [
    "## Część 4. - rekomendacje i zastosowania"
   ]
  },
  {
   "cell_type": "code",
   "execution_count": 8,
   "metadata": {},
   "outputs": [],
   "source": [
    "PULP_FICTION = 'm_296'\n",
    "TOY_STORY = 'm_1'\n",
    "PLANET_OF_THE_APES = 'm_2529'"
   ]
  },
  {
   "cell_type": "code",
   "execution_count": 9,
   "metadata": {},
   "outputs": [
    {
     "data": {
      "text/plain": [
       "['m_296', 'm_356', 'm_527', 'm_593', 'm_110']"
      ]
     },
     "execution_count": 9,
     "metadata": {},
     "output_type": "execute_result"
    }
   ],
   "source": [
    "# wyszukajmy K najpodobniejszych filmów do danego\n",
    "# porownaj wyniki dla odleglosci euklidesowej i cosinuswej, np. na trzech powyzszych filmach\n",
    "from math import sqrt\n",
    "\n",
    "def euclidian_distance(i, j):\n",
    "    return sqrt(np.sum(np.square(np.sum(embeddings[i] - embeddings[j])))) \n",
    "\n",
    "def cosine_distance(i, j):\n",
    "    return np.sum(np.multiply(embeddings[i], embeddings[j])) / sqrt(np.sum(np.square(embeddings[i]))) * sqrt(np.sum(np.square(embeddings[j])))\n",
    "\n",
    "def k_most_similar_movies(movie_id, K, embeddings, distance_fun):\n",
    "    if distance_fun is cosine_distance:\n",
    "        return sorted(movies, key= lambda movie: abs(distance_fun(movie_id, movie)), reverse=True)[1:K+1] #skip movie_id\n",
    "    return sorted(movies, key= lambda movie: abs(distance_fun(movie_id, movie)))[1:K+1] #skip movie_id\n",
    "\n",
    "k_most_similar_movies(PULP_FICTION, 5, embeddings, euclidian_distance)\n",
    "k_most_similar_movies(TOY_STORY, 5, embeddings, cosine_distance)"
   ]
  },
  {
   "cell_type": "code",
   "execution_count": 10,
   "metadata": {},
   "outputs": [
    {
     "data": {
      "text/plain": [
       "['m_88163',\n",
       " 'm_46578',\n",
       " 'm_56367',\n",
       " 'm_56782',\n",
       " 'm_2324',\n",
       " 'm_92259',\n",
       " 'm_8533',\n",
       " 'm_4973',\n",
       " 'm_63082',\n",
       " 'm_7323']"
      ]
     },
     "execution_count": 10,
     "metadata": {},
     "output_type": "execute_result"
    }
   ],
   "source": [
    "# wyszukajmy k filmow najblizszych uzytkownikowi\n",
    "# wykorzystaj funkcje z poprzedniej komorki\n",
    "\n",
    "def k_best_movies_for_user(user_id, K, embeddings, distance_fun):\n",
    "    user_movies = graph[user_id]\n",
    "    movies_to_recomend = [movie for movie in movies if movie not in user_movies]\n",
    "    if distance_fun is cosine_distance:\n",
    "        return sorted(movies_to_recomend, key= lambda movie: abs(distance_fun(user_id, movie)), reverse=True)[:K] #skip movie_id\n",
    "    return sorted(movies_to_recomend, key= lambda movie: abs(distance_fun(user_id, movie)))[:K] #skip movie_id\n",
    "\n",
    "k_best_movies_for_user('u_1', 10, embeddings, cosine_distance)"
   ]
  },
  {
   "cell_type": "code",
   "execution_count": 11,
   "metadata": {},
   "outputs": [
    {
     "data": {
      "text/plain": [
       "['m_296',\n",
       " 'm_318',\n",
       " 'm_7361',\n",
       " 'm_4226',\n",
       " 'm_4995',\n",
       " 'm_1246',\n",
       " 'm_1035',\n",
       " 'm_3949',\n",
       " 'm_1704',\n",
       " 'm_1193']"
      ]
     },
     "execution_count": 11,
     "metadata": {},
     "output_type": "execute_result"
    }
   ],
   "source": [
    "# sprobujmy czegos bardziej skomplikowanego\n",
    "#   znajdz ulubiony gatunek filmowy uzytkownika\n",
    "#   a nastepnie zaproponuj K filmow z tego gatunku - ale nie tych najblizszych uzytkownikowi\n",
    "#   (zaproponuj, w jaki sposob dobrac filmy interesujace, ale nie z najblizszego otoczenia)\n",
    "from collections import defaultdict\n",
    "\n",
    "def k_from_favourite_genre(user_id, K, embeddings, distance_fun):\n",
    "    user_movies_to_recomend = k_best_movies_for_user(user_id, K, embeddings, distance_fun)\n",
    "    user_movies = graph[user_id]\n",
    "    liked_movies = ratings.where(ratings['userId'] == user_id).where(ratings['rating'] >= SCORE_THRESHOLD).dropna().to_numpy()[:,1]\n",
    "\n",
    "    movies_to_recomend = [movie for movie in movies if movie not in user_movies_to_recomend and movie not in user_movies]\n",
    "    fav_genres = defaultdict(int) #most popular\n",
    "    for liked_movie in liked_movies:\n",
    "        genres = movies_to_genres.where(movies_to_genres['movieId'] == liked_movie).dropna().to_numpy()[:,1]\n",
    "        for genre in genres:\n",
    "            fav_genres[genre] += 1\n",
    "            \n",
    "    favourite_genre_id = max(fav_genres, key=fav_genres.get)\n",
    "        \n",
    "    if distance_fun is cosine_distance:\n",
    "        return sorted(movies_to_recomend, key= lambda movie: abs(distance_fun(favourite_genre_id, movie)), reverse=True)[:K] #skip movie_id\n",
    "    return sorted(movies_to_recomend, key= lambda movie: abs(distance_fun(favourite_genre_id, movie)))[:K] #skip movie_id\n",
    "\n",
    "k_from_favourite_genre('u_1', 10, embeddings, cosine_distance)"
   ]
  },
  {
   "cell_type": "code",
   "execution_count": 12,
   "metadata": {},
   "outputs": [
    {
     "data": {
      "text/plain": [
       "['m_7647',\n",
       " 'm_5612',\n",
       " 'm_38798',\n",
       " 'm_4212',\n",
       " 'm_2261',\n",
       " 'm_95182',\n",
       " 'm_49280',\n",
       " 'm_8934',\n",
       " 'm_3723',\n",
       " 'm_42725',\n",
       " 'm_113280',\n",
       " 'm_27879',\n",
       " 'm_2136',\n",
       " 'm_8191',\n",
       " 'm_97836',\n",
       " 'm_8979',\n",
       " 'm_146309',\n",
       " 'm_4835',\n",
       " 'm_6764',\n",
       " 'm_645']"
      ]
     },
     "execution_count": 12,
     "metadata": {},
     "output_type": "execute_result"
    }
   ],
   "source": [
    "# Na koniec najbardziej skomplikowany algorytm - odpowiednik \"Radia utworu\" w Spotify.\n",
    "#   Zaczynamy od jednego filmu, a nastepnie wyznaczamy kolejne, wedrujac po przestrzeni, w ktorej wszystkie elementy sa osadzone.\n",
    "#   Zaproponuj, jak zdefiniowac podzbior filmow, z ktorych bedziemy wybierac (np. filmy odlegle o min. a i max. b od danego)\n",
    "#   oraz jak generowac kolejny skok (tak, zeby seria rekomendacji nie byla zbyt monotonna, ale rownoczesnie zgodna z gustem uzytkownika)\n",
    "\n",
    "\n",
    "def get_playlist(start_movie_id, user_id, K, embeddings):\n",
    "    min_threshold = 0.15\n",
    "    max_threshold = 0.5\n",
    "    reduced_movies_list = sorted(movies, key= lambda movie: abs(cosine_distance(user_id, movie)))[int(min_threshold*len(movies)):int(max_threshold*len(movies))]\n",
    "    playlist = [start_movie_id]\n",
    "    for i in range(K):\n",
    "        new_recommendation = sorted(reduced_movies_list, key= lambda movie: abs(cosine_distance(playlist[-1], movie)))[0]\n",
    "        reduced_movies_list.remove(new_recommendation)\n",
    "        playlist.append(new_recommendation)\n",
    "    return playlist[1:]\n",
    "\n",
    "get_playlist('m_1', 'u_1', 20, embeddings)"
   ]
  },
  {
   "cell_type": "code",
   "execution_count": null,
   "metadata": {},
   "outputs": [],
   "source": []
  }
 ],
 "metadata": {
  "kernelspec": {
   "display_name": "Python 3",
   "language": "python",
   "name": "python3"
  },
  "language_info": {
   "codemirror_mode": {
    "name": "ipython",
    "version": 3
   },
   "file_extension": ".py",
   "mimetype": "text/x-python",
   "name": "python",
   "nbconvert_exporter": "python",
   "pygments_lexer": "ipython3",
   "version": "3.8.3"
  }
 },
 "nbformat": 4,
 "nbformat_minor": 4
}
